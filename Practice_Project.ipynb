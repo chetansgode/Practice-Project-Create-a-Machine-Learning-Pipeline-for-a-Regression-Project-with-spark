{
  "cells": [
    {
      "cell_type": "markdown",
      "metadata": {
        "id": "view-in-github",
        "colab_type": "text"
      },
      "source": [
        "<a href=\"https://colab.research.google.com/github/chetansgode/Practice-Project-Create-a-Machine-Learning-Pipeline-for-a-Regression-Project-with-spark/blob/main/Practice_Project.ipynb\" target=\"_parent\"><img src=\"https://colab.research.google.com/assets/colab-badge.svg\" alt=\"Open In Colab\"/></a>"
      ]
    },
    {
      "cell_type": "markdown",
      "metadata": {
        "id": "7g_vhhTC2TmI"
      },
      "source": [
        "<p style=\"text-align:center\">\n",
        "    <a href=\"https://skills.network/?utm_medium=Exinfluencer&utm_source=Exinfluencer&utm_content=000026UJ&utm_term=10006555&utm_id=NA-SkillsNetwork-Channel-SkillsNetworkCoursesIBMSkillsNetworkBD0231ENCoursera2789-2023-01-01\">\n",
        "    <img src=\"https://cf-courses-data.s3.us.cloud-object-storage.appdomain.cloud/assets/logos/SN_web_lightmode.png\" width=\"200\" alt=\"Skills Network Logo\"  />\n",
        "    </a>\n",
        "</p>\n"
      ]
    },
    {
      "cell_type": "markdown",
      "metadata": {
        "id": "Iin5Dqme2TmP"
      },
      "source": [
        "## Practice Project - Create a machine learning pipeline for a regression project\n"
      ]
    },
    {
      "cell_type": "markdown",
      "metadata": {
        "id": "oFWiWtMx2TmQ"
      },
      "source": [
        "Estimated time needed: **90** minutes\n"
      ]
    },
    {
      "cell_type": "markdown",
      "metadata": {
        "id": "TOOyV0iH2TmQ"
      },
      "source": [
        "## Scenario\n"
      ]
    },
    {
      "cell_type": "markdown",
      "metadata": {
        "id": "nDpPtZtI2TmR"
      },
      "source": [
        "You are a data engineer at a data analytics consulting company. Your company prides itself in being able to efficiently handle huge datasets. Data scientists in your office need to work with different algorithms and data in different formats. While they are good at Machine Learning, they count on you to be able do ETL jobs and build ML pipelines.\n",
        "\n"
      ]
    },
    {
      "cell_type": "markdown",
      "metadata": {
        "id": "7dlaGaof2TmR"
      },
      "source": [
        "## Objectives\n",
        "\n",
        "In this 4 part assignment you will:\n",
        "\n",
        "- Part 1 ETL\n",
        "  - Load a csv dataset\n",
        "  - Remove duplicates if any\n",
        "  - Drop rows with null values if any\n",
        "  - Make transformations\n",
        "  - Store the cleaned data in parquet format\n",
        "- Part 2 Machine Learning Pipeline creation\n",
        "  - Create a machine learning pipeline for prediction\n",
        "- Part 3 Model evaluation\n",
        "  - Evaluate the model using metrics\n",
        "  - Print the intercept and the coefficients\n",
        "- Part 4 Model Persistance\n",
        "  - Cave the model for future production use\n",
        "  - Load and verify the stored model\n"
      ]
    },
    {
      "cell_type": "markdown",
      "metadata": {
        "id": "oXgFPwwa2TmS"
      },
      "source": [
        "## Datasets\n",
        "\n",
        "In this lab you will be using dataset(s):\n",
        "\n",
        " - Modified version of car mileage dataset. Original dataset available at https://archive.ics.uci.edu/ml/datasets/auto+mpg\n",
        "\n"
      ]
    },
    {
      "cell_type": "markdown",
      "metadata": {
        "id": "Ga44FYdv2TmS"
      },
      "source": [
        "----\n"
      ]
    },
    {
      "cell_type": "markdown",
      "metadata": {
        "id": "hZESXmfj2TmT"
      },
      "source": [
        "## Setup\n"
      ]
    },
    {
      "cell_type": "markdown",
      "metadata": {
        "id": "rxvBPCzI2TmU"
      },
      "source": [
        "For this lab, we will be using the following libraries:\n",
        "\n",
        "*   [`PySpark`](https://spark.apache.org/docs/latest/api/python/index.html?utm_medium=Exinfluencer&utm_source=Exinfluencer&utm_content=000026UJ&utm_term=10006555&utm_id=NA-SkillsNetwork-Channel-SkillsNetworkCoursesIBMSkillsNetworkBD0231ENCoursera2789-2023-01-01) for connecting to the Spark Cluster\n"
      ]
    },
    {
      "cell_type": "markdown",
      "metadata": {
        "id": "WwVVbgsA2TmU"
      },
      "source": [
        "### Installing Required Libraries\n",
        "\n",
        "Spark Cluster is pre-installed in the Skills Network Labs environment. However, you need libraries like pyspark and findspark to\n",
        " connect to this cluster.\n"
      ]
    },
    {
      "cell_type": "markdown",
      "metadata": {
        "id": "X46gAi-q2TmV"
      },
      "source": [
        "The following required libraries are __not__ pre-installed in the Skills Network Labs environment. __You will need to run the following cell__ to install them:\n"
      ]
    },
    {
      "cell_type": "code",
      "execution_count": null,
      "metadata": {
        "tags": [],
        "colab": {
          "base_uri": "https://localhost:8080/"
        },
        "id": "yo7FYBXq2TmW",
        "outputId": "34c07bd6-6613-4b77-ec3a-81233f314831"
      },
      "outputs": [
        {
          "output_type": "stream",
          "name": "stdout",
          "text": [
            "\u001b[2K     \u001b[90m━━━━━━━━━━━━━━━━━━━━━━━━━━━━━━━━━━━━━━━━\u001b[0m \u001b[32m212.4/212.4 MB\u001b[0m \u001b[31m2.3 MB/s\u001b[0m eta \u001b[36m0:00:00\u001b[0m\n",
            "\u001b[?25h  Preparing metadata (setup.py) ... \u001b[?25l\u001b[?25hdone\n",
            "\u001b[2K     \u001b[90m━━━━━━━━━━━━━━━━━━━━━━━━━━━━━━━━━━━━━━━━\u001b[0m \u001b[32m198.6/198.6 kB\u001b[0m \u001b[31m14.5 MB/s\u001b[0m eta \u001b[36m0:00:00\u001b[0m\n",
            "\u001b[?25h  Building wheel for pyspark (setup.py) ... \u001b[?25l\u001b[?25hdone\n"
          ]
        }
      ],
      "source": [
        "!pip install pyspark==3.1.2 -q\n",
        "!pip install findspark -q"
      ]
    },
    {
      "cell_type": "markdown",
      "metadata": {
        "id": "TGzhfiUf2TmY"
      },
      "source": [
        "### Importing Required Libraries\n",
        "\n",
        "_We recommend you import all required libraries in one place (here):_\n"
      ]
    },
    {
      "cell_type": "code",
      "execution_count": null,
      "metadata": {
        "tags": [],
        "id": "OrRu0wCU2TmZ"
      },
      "outputs": [],
      "source": [
        "# You can also use this section to suppress warnings generated by your code:\n",
        "def warn(*args, **kwargs):\n",
        "    pass\n",
        "import warnings\n",
        "warnings.warn = warn\n",
        "warnings.filterwarnings('ignore')\n",
        "\n",
        "# FindSpark simplifies the process of using Apache Spark with Python\n",
        "\n",
        "import findspark\n",
        "findspark.init()"
      ]
    },
    {
      "cell_type": "markdown",
      "metadata": {
        "id": "_ZEuY0WP2TmZ"
      },
      "source": [
        "## Part 1 - ETL\n"
      ]
    },
    {
      "cell_type": "markdown",
      "metadata": {
        "id": "vQNA66j02Tma"
      },
      "source": [
        "### Task 1 - Import required libraries\n"
      ]
    },
    {
      "cell_type": "code",
      "execution_count": null,
      "metadata": {
        "tags": [],
        "id": "QWeEx5YQ2Tma"
      },
      "outputs": [],
      "source": [
        "#your code goes here\n",
        "import findspark\n",
        "findspark.init()\n",
        "from pyspark.sql import SparkSession\n",
        "from pyspark.ml import Pipeline\n",
        "from pyspark.ml.pipeline import PipelineModel\n",
        "from pyspark.ml.regression import LinearRegression\n",
        "from pyspark.ml.classification import LogisticRegression\n",
        "from pyspark.ml.evaluation import RegressionEvaluator\n",
        "from pyspark.ml.feature import VectorAssembler\n",
        "from pyspark.ml.feature import StopWordsRemover\n",
        "from pyspark.ml.feature import CountVectorizer\n",
        "from pyspark.ml.feature import StringIndexer\n",
        "from pyspark.ml.feature import StandardScaler\n",
        "from pyspark.ml.evaluation import ClusteringEvaluator\n"
      ]
    },
    {
      "cell_type": "markdown",
      "metadata": {
        "id": "GqtlUVnp2Tmb"
      },
      "source": [
        "<details>\n",
        "    <summary>Click here for a Hint</summary>\n",
        "    \n",
        "Import all the required libraries\n",
        "    \n",
        "</details>\n"
      ]
    },
    {
      "cell_type": "markdown",
      "metadata": {
        "id": "1HY1aDGr2Tmc"
      },
      "source": [
        "<details>\n",
        "    <summary>Click here for Solution</summary>\n",
        "\n",
        "```python\n",
        "from pyspark.sql import SparkSession\n",
        "from pyspark.ml import Pipeline\n",
        "from pyspark.ml.pipeline import PipelineModel\n",
        "from pyspark.ml.feature import VectorAssembler\n",
        "from pyspark.ml.regression import LinearRegression\n",
        "from pyspark.ml.feature import StringIndexer\n",
        "from pyspark.ml.feature import StandardScaler\n",
        "\n",
        "```\n",
        "\n",
        "</details>\n"
      ]
    },
    {
      "cell_type": "markdown",
      "metadata": {
        "id": "ToaV6KLA2Tmd"
      },
      "source": [
        "### Task 2 - Create a spark session\n"
      ]
    },
    {
      "cell_type": "code",
      "execution_count": null,
      "metadata": {
        "tags": [],
        "id": "I10pfbY_2Tmd"
      },
      "outputs": [],
      "source": [
        "#Create SparkSession\n",
        "\n",
        "spark = SparkSession.builder.appName('Practice Project').getOrCreate()\n"
      ]
    },
    {
      "cell_type": "markdown",
      "metadata": {
        "id": "_M89xRrx2Tmf"
      },
      "source": [
        "<details>\n",
        "    <summary>Click here for a Hint</summary>\n",
        "    \n",
        "Use the SparkSession.builder\n",
        "\n",
        "</details>\n"
      ]
    },
    {
      "cell_type": "markdown",
      "metadata": {
        "id": "BlWiujaG2Tmg"
      },
      "source": [
        "<details>\n",
        "    <summary>Click here for Solution</summary>\n",
        "\n",
        "```python\n",
        "spark = SparkSession.builder.appName(\"Practice Project\").getOrCreate()\n",
        "```\n",
        "\n",
        "</details>\n"
      ]
    },
    {
      "cell_type": "markdown",
      "metadata": {
        "id": "1Qs9ZAEF2Tmg"
      },
      "source": [
        "### Task 3 - Load the csv file into a dataframe\n"
      ]
    },
    {
      "cell_type": "markdown",
      "metadata": {
        "id": "SWUzzV1C2Tmg"
      },
      "source": [
        "Download the data file\n"
      ]
    },
    {
      "cell_type": "code",
      "execution_count": null,
      "metadata": {
        "tags": [],
        "colab": {
          "base_uri": "https://localhost:8080/"
        },
        "id": "OWH8usEd2Tmh",
        "outputId": "63088a62-d590-432f-e5a4-1e1625c3ad63"
      },
      "outputs": [
        {
          "output_type": "stream",
          "name": "stdout",
          "text": [
            "--2024-01-24 14:23:21--  https://cf-courses-data.s3.us.cloud-object-storage.appdomain.cloud/IBMSkillsNetwork-BD0231EN-Coursera/datasets/mpg-raw.csv\n",
            "Resolving cf-courses-data.s3.us.cloud-object-storage.appdomain.cloud (cf-courses-data.s3.us.cloud-object-storage.appdomain.cloud)... 169.63.118.104\n",
            "Connecting to cf-courses-data.s3.us.cloud-object-storage.appdomain.cloud (cf-courses-data.s3.us.cloud-object-storage.appdomain.cloud)|169.63.118.104|:443... connected.\n",
            "HTTP request sent, awaiting response... 200 OK\n",
            "Length: 14354 (14K) [text/csv]\n",
            "Saving to: ‘mpg-raw.csv’\n",
            "\n",
            "mpg-raw.csv         100%[===================>]  14.02K  --.-KB/s    in 0s      \n",
            "\n",
            "2024-01-24 14:23:22 (214 MB/s) - ‘mpg-raw.csv’ saved [14354/14354]\n",
            "\n"
          ]
        }
      ],
      "source": [
        "!wget https://cf-courses-data.s3.us.cloud-object-storage.appdomain.cloud/IBMSkillsNetwork-BD0231EN-Coursera/datasets/mpg-raw.csv\n"
      ]
    },
    {
      "cell_type": "markdown",
      "metadata": {
        "id": "quY1uoqS2Tmh"
      },
      "source": [
        "Load the dataset into the spark dataframe\n"
      ]
    },
    {
      "cell_type": "code",
      "execution_count": null,
      "metadata": {
        "tags": [],
        "id": "-GT5e8Cm2Tmi"
      },
      "outputs": [],
      "source": [
        "# Load dataset\n",
        "df = spark.read.csv(\"mpg-raw.csv\",header=True,inferSchema=True)\n"
      ]
    },
    {
      "cell_type": "markdown",
      "metadata": {
        "id": "w8xT6vwe2Tmi"
      },
      "source": [
        "<details>\n",
        "    <summary>Click here for a Hint</summary>\n",
        "    \n",
        "Use  spark.read.csv\n",
        "\n",
        "</details>\n"
      ]
    },
    {
      "cell_type": "markdown",
      "metadata": {
        "id": "Fr_-KX812Tmj"
      },
      "source": [
        "<details>\n",
        "    <summary>Click here for Solution</summary>\n",
        "\n",
        "```python\n",
        "df = spark.read.csv(\"mpg-raw.csv\", header=True, inferSchema=True)\n",
        "\n",
        "```\n",
        "\n",
        "</details>\n"
      ]
    },
    {
      "cell_type": "markdown",
      "metadata": {
        "id": "4Vuk8Q292Tmj"
      },
      "source": [
        "### Task 4 - Print top 5 rows of the dataset\n"
      ]
    },
    {
      "cell_type": "code",
      "execution_count": null,
      "metadata": {
        "tags": [],
        "colab": {
          "base_uri": "https://localhost:8080/"
        },
        "id": "xue5kPRy2Tmj",
        "outputId": "019ca8da-129d-4f82-8d5c-4717ad8a9f4a"
      },
      "outputs": [
        {
          "output_type": "stream",
          "name": "stdout",
          "text": [
            "+----+---------+-----------+----------+------+----------+----+--------+\n",
            "| MPG|Cylinders|Engine Disp|Horsepower|Weight|Accelerate|Year|  Origin|\n",
            "+----+---------+-----------+----------+------+----------+----+--------+\n",
            "|46.6|        4|       86.0|        65|  2110|      17.9|  80|Japanese|\n",
            "|44.6|        4|       91.0|        67|  1850|      13.8|  80|Japanese|\n",
            "|44.3|        4|       90.0|        48|  2085|      21.7|  80|European|\n",
            "|44.0|        4|       97.0|        52|  2130|      24.6|  82|European|\n",
            "|43.4|        4|       90.0|        48|  2335|      23.7|  80|European|\n",
            "+----+---------+-----------+----------+------+----------+----+--------+\n",
            "only showing top 5 rows\n",
            "\n"
          ]
        }
      ],
      "source": [
        "#your code goes here\n",
        "df.show(5)"
      ]
    },
    {
      "cell_type": "markdown",
      "metadata": {
        "id": "e3FKGCTg2Tmk"
      },
      "source": [
        "### Task 5 - Print the number of cars in each Origin\n"
      ]
    },
    {
      "cell_type": "code",
      "execution_count": null,
      "metadata": {
        "tags": [],
        "colab": {
          "base_uri": "https://localhost:8080/"
        },
        "id": "HXIGsfDm2Tmk",
        "outputId": "b750ccfb-f08a-49e4-c047-308a7b705ff8"
      },
      "outputs": [
        {
          "output_type": "stream",
          "name": "stdout",
          "text": [
            "+--------+-----+\n",
            "|  Origin|count|\n",
            "+--------+-----+\n",
            "|    null|    1|\n",
            "|European|   70|\n",
            "|Japanese|   88|\n",
            "|American|  247|\n",
            "+--------+-----+\n",
            "\n"
          ]
        }
      ],
      "source": [
        "#your code goes here\n",
        "df.groupBy('Origin').count().orderBy('count').show()"
      ]
    },
    {
      "cell_type": "markdown",
      "metadata": {
        "id": "2LgmIfmj2Tml"
      },
      "source": [
        "<details>\n",
        "    <summary>Click here for a Hint</summary>\n",
        "    \n",
        "Use  df.groupBy\n",
        "\n",
        "</details>\n"
      ]
    },
    {
      "cell_type": "markdown",
      "metadata": {
        "id": "nPJEOWtw2Tmm"
      },
      "source": [
        "<details>\n",
        "    <summary>Click here for Solution</summary>\n",
        "\n",
        "```python\n",
        "df.groupBy('Origin').count().orderBy('count').show()\n",
        "```\n",
        "\n",
        "</details>\n"
      ]
    },
    {
      "cell_type": "markdown",
      "metadata": {
        "id": "1jeZdjzN2Tmm"
      },
      "source": [
        "### Task 6 - Print the total number of rows in the dataset\n"
      ]
    },
    {
      "cell_type": "code",
      "execution_count": null,
      "metadata": {
        "tags": [],
        "colab": {
          "base_uri": "https://localhost:8080/"
        },
        "id": "lG-rnd9U2Tmm",
        "outputId": "6e62b559-5a56-459f-ba89-abc63e22a8c6"
      },
      "outputs": [
        {
          "output_type": "stream",
          "name": "stdout",
          "text": [
            "406\n"
          ]
        }
      ],
      "source": [
        "#your code goes here\n",
        "rowcount1 = df.count()\n",
        "print(rowcount1)"
      ]
    },
    {
      "cell_type": "markdown",
      "metadata": {
        "id": "Z1I5exLi2Tms"
      },
      "source": [
        "### Task 7 - Drop all the duplicate rows from the dataset\n"
      ]
    },
    {
      "cell_type": "code",
      "execution_count": null,
      "metadata": {
        "tags": [],
        "id": "XF6pHHdW2Tms"
      },
      "outputs": [],
      "source": [
        "#your code goes here\n",
        "df=df.dropDuplicates()\n"
      ]
    },
    {
      "cell_type": "markdown",
      "metadata": {
        "id": "i06NNy3e2Tms"
      },
      "source": [
        "<details>\n",
        "    <summary>Click here for a Hint</summary>\n",
        "    \n",
        "Use  df.dropDuplicates\n",
        "\n",
        "</details>\n"
      ]
    },
    {
      "cell_type": "markdown",
      "metadata": {
        "id": "tKhP9d392Tms"
      },
      "source": [
        "<details>\n",
        "    <summary>Click here for Solution</summary>\n",
        "\n",
        "```python\n",
        "df = df.dropDuplicates()\n",
        "```\n",
        "\n",
        "</details>\n"
      ]
    },
    {
      "cell_type": "markdown",
      "metadata": {
        "id": "36YTJReA2Tmt"
      },
      "source": [
        "### Task 8 - Print the total number of rows in the dataset\n"
      ]
    },
    {
      "cell_type": "code",
      "execution_count": null,
      "metadata": {
        "tags": [],
        "colab": {
          "base_uri": "https://localhost:8080/"
        },
        "id": "p4KHSQOk2Tmt",
        "outputId": "521cb09d-f74c-4b3e-e195-4555238790b4"
      },
      "outputs": [
        {
          "output_type": "stream",
          "name": "stdout",
          "text": [
            "392\n"
          ]
        }
      ],
      "source": [
        "#your code goes here\n",
        "rowcount2 = df.count()\n",
        "print(rowcount2)"
      ]
    },
    {
      "cell_type": "markdown",
      "metadata": {
        "id": "yClHYE4K2Tmt"
      },
      "source": [
        "### Task 9 - Drop all the rows that contain null values from the dataset\n"
      ]
    },
    {
      "cell_type": "code",
      "execution_count": null,
      "metadata": {
        "tags": [],
        "id": "cz1aH9qv2Tmt"
      },
      "outputs": [],
      "source": [
        "#your code goes here\n",
        "df=df.dropna()"
      ]
    },
    {
      "cell_type": "markdown",
      "metadata": {
        "id": "GuEWNCCy2Tmu"
      },
      "source": [
        "<details>\n",
        "    <summary>Click here for a Hint</summary>\n",
        "    \n",
        "Use df.dropna\n",
        "\n",
        "</details>\n"
      ]
    },
    {
      "cell_type": "markdown",
      "metadata": {
        "id": "mgn5Wp512Tmu"
      },
      "source": [
        "<details>\n",
        "    <summary>Click here for Solution</summary>\n",
        "\n",
        "```python\n",
        "df=df.dropna()\n",
        "```\n",
        "\n",
        "</details>\n"
      ]
    },
    {
      "cell_type": "markdown",
      "metadata": {
        "id": "GU0wzUGE2Tmu"
      },
      "source": [
        "### Task 10 - Print the total number of rows in the dataset\n"
      ]
    },
    {
      "cell_type": "code",
      "execution_count": null,
      "metadata": {
        "tags": [],
        "colab": {
          "base_uri": "https://localhost:8080/"
        },
        "id": "yK-upJuo2Tmv",
        "outputId": "e354fc55-7895-4872-e9d2-e6c0bfd784af"
      },
      "outputs": [
        {
          "output_type": "stream",
          "name": "stdout",
          "text": [
            "385\n"
          ]
        }
      ],
      "source": [
        "#your code goes here\n",
        "rowcount3 = df.count()\n",
        "print(rowcount3)"
      ]
    },
    {
      "cell_type": "code",
      "execution_count": null,
      "metadata": {
        "tags": [],
        "colab": {
          "base_uri": "https://localhost:8080/"
        },
        "id": "LoU43Q4x2Tmv",
        "outputId": "a8b96393-01c9-4b70-ca8b-f453101ae556"
      },
      "outputs": [
        {
          "output_type": "stream",
          "name": "stdout",
          "text": [
            "+----+---------+-----------+----------+------+----------+----+--------+\n",
            "| MPG|Cylinders|Engine Disp|Horsepower|Weight|Accelerate|Year|  Origin|\n",
            "+----+---------+-----------+----------+------+----------+----+--------+\n",
            "|24.0|        4|      134.0|        96|  2702|      13.5|  75|Japanese|\n",
            "|18.0|        6|      250.0|        88|  3139|      14.5|  71|American|\n",
            "+----+---------+-----------+----------+------+----------+----+--------+\n",
            "only showing top 2 rows\n",
            "\n"
          ]
        }
      ],
      "source": [
        "df.show(2)"
      ]
    },
    {
      "cell_type": "markdown",
      "metadata": {
        "id": "IwI2QUTH2Tmv"
      },
      "source": [
        "### Task 11 - Rename the column \"Engine Disp\" to \"Engine_Disp\"Drop\n"
      ]
    },
    {
      "cell_type": "code",
      "execution_count": null,
      "metadata": {
        "tags": [],
        "id": "uLtsphnE2Tmw"
      },
      "outputs": [],
      "source": [
        "#your code goes here\n",
        "\n",
        "df = df.withColumnRenamed(\"Engine Disp\",\"Engine_Disp\")"
      ]
    },
    {
      "cell_type": "markdown",
      "metadata": {
        "id": "7uhgmi5M2Tmw"
      },
      "source": [
        "<details>\n",
        "    <summary>Click here for a Hint</summary>\n",
        "    \n",
        "Use df.withColumnRenamed\n",
        "\n",
        "</details>\n"
      ]
    },
    {
      "cell_type": "markdown",
      "metadata": {
        "id": "YQOgoSIk2Tmw"
      },
      "source": [
        "<details>\n",
        "    <summary>Click here for Solution</summary>\n",
        "\n",
        "```python\n",
        "df = df.withColumnRenamed(\"Engine Disp\",\"Engine_Disp\")\n",
        "```\n",
        "\n",
        "</details>\n"
      ]
    },
    {
      "cell_type": "code",
      "execution_count": null,
      "metadata": {
        "tags": [],
        "colab": {
          "base_uri": "https://localhost:8080/"
        },
        "id": "6byHhQi-2Tmx",
        "outputId": "5fab4c77-9d61-44bf-a118-962f43ef678d"
      },
      "outputs": [
        {
          "output_type": "stream",
          "name": "stdout",
          "text": [
            "+----+---------+-----------+----------+------+----------+----+--------+\n",
            "| MPG|Cylinders|Engine_Disp|Horsepower|Weight|Accelerate|Year|  Origin|\n",
            "+----+---------+-----------+----------+------+----------+----+--------+\n",
            "|24.0|        4|      134.0|        96|  2702|      13.5|  75|Japanese|\n",
            "|18.0|        6|      250.0|        88|  3139|      14.5|  71|American|\n",
            "+----+---------+-----------+----------+------+----------+----+--------+\n",
            "only showing top 2 rows\n",
            "\n"
          ]
        }
      ],
      "source": [
        "df.show(2)"
      ]
    },
    {
      "cell_type": "markdown",
      "metadata": {
        "id": "QU0S2JPl2Tmx"
      },
      "source": [
        "### Task 12 - Save the dataframe in parquet format, name the file as \"mpg-cleaned.parquet\"\n"
      ]
    },
    {
      "cell_type": "code",
      "execution_count": null,
      "metadata": {
        "tags": [],
        "id": "ijFzNTNm2Tmx"
      },
      "outputs": [],
      "source": [
        "#your code goes here\n",
        "df.write.parquet(\"mpg-cleaned.parquet\")"
      ]
    },
    {
      "cell_type": "markdown",
      "metadata": {
        "id": "SPDhR2RX2Tmy"
      },
      "source": [
        "<details>\n",
        "    <summary>Click here for a Hint</summary>\n",
        "    \n",
        "Use df.write.parquet\n",
        "\n",
        "</details>\n"
      ]
    },
    {
      "cell_type": "markdown",
      "metadata": {
        "id": "srRgAquY2Tmy"
      },
      "source": [
        "<details>\n",
        "    <summary>Click here for Solution</summary>\n",
        "\n",
        "```python\n",
        "df.write.parquet(\"mpg-cleaned.parquet\")\n",
        "```\n",
        "\n",
        "</details>\n"
      ]
    },
    {
      "cell_type": "markdown",
      "metadata": {
        "id": "RhwzFfTm2Tmy"
      },
      "source": [
        "#### Part 1 - Evaluation\n"
      ]
    },
    {
      "cell_type": "markdown",
      "metadata": {
        "id": "BBokhwGw2Tmy"
      },
      "source": [
        "\n",
        "Run the code cell below.<br>\n",
        "If the code throws up any errors, go back and review the code you have written.\n"
      ]
    },
    {
      "cell_type": "code",
      "execution_count": null,
      "metadata": {
        "tags": [],
        "colab": {
          "base_uri": "https://localhost:8080/"
        },
        "id": "Ew70BUkg2Tmy",
        "outputId": "3393a0e4-fbb5-4642-ee7f-6a9a36f62351"
      },
      "outputs": [
        {
          "output_type": "stream",
          "name": "stdout",
          "text": [
            "Part 1 - Evaluation\n",
            "Total rows =  406\n",
            "Total rows after dropping duplicate rows =  392\n",
            "Total rows after dropping duplicate rows and rows with null values =  385\n",
            "Renamed column name =  Engine_Disp\n",
            "mpg-cleaned.parquet exists : True\n"
          ]
        }
      ],
      "source": [
        "print(\"Part 1 - Evaluation\")\n",
        "\n",
        "print(\"Total rows = \", rowcount1)\n",
        "print(\"Total rows after dropping duplicate rows = \", rowcount2)\n",
        "print(\"Total rows after dropping duplicate rows and rows with null values = \", rowcount3)\n",
        "print(\"Renamed column name = \", df.columns[2])\n",
        "\n",
        "import os\n",
        "\n",
        "print(\"mpg-cleaned.parquet exists :\", os.path.isdir(\"mpg-cleaned.parquet\"))"
      ]
    },
    {
      "cell_type": "markdown",
      "metadata": {
        "id": "4uFIKG7d2Tmz"
      },
      "source": [
        "## Part - 2 Machine Learning Pipeline creation\n"
      ]
    },
    {
      "cell_type": "markdown",
      "metadata": {
        "id": "KdhYlNQ52Tmz"
      },
      "source": [
        "### Task 1 - Load data from \"mpg-cleaned.parquet\" into a dataframe\n"
      ]
    },
    {
      "cell_type": "code",
      "execution_count": null,
      "metadata": {
        "tags": [],
        "id": "kq5cy1Nv2Tmz"
      },
      "outputs": [],
      "source": [
        "#your code goes here\n",
        "\n",
        "df = spark.read.parquet('mpg-cleaned.parquet')\n"
      ]
    },
    {
      "cell_type": "code",
      "execution_count": null,
      "metadata": {
        "tags": [],
        "colab": {
          "base_uri": "https://localhost:8080/"
        },
        "id": "x2uXHx9Q2Tmz",
        "outputId": "4b884856-b33b-4bdc-e65a-1513d2dc9cb7"
      },
      "outputs": [
        {
          "output_type": "stream",
          "name": "stdout",
          "text": [
            "+----+---------+-----------+----------+------+----------+----+--------+\n",
            "| MPG|Cylinders|Engine_Disp|Horsepower|Weight|Accelerate|Year|  Origin|\n",
            "+----+---------+-----------+----------+------+----------+----+--------+\n",
            "|32.2|        4|      108.0|        75|  2265|      15.2|  80|Japanese|\n",
            "|28.0|        4|      107.0|        86|  2464|      15.5|  76|European|\n",
            "|26.0|        4|      156.0|        92|  2585|      14.5|  82|American|\n",
            "|25.0|        4|      104.0|        95|  2375|      17.5|  70|European|\n",
            "|25.0|        4|      140.0|        75|  2542|      17.0|  74|American|\n",
            "+----+---------+-----------+----------+------+----------+----+--------+\n",
            "only showing top 5 rows\n",
            "\n"
          ]
        }
      ],
      "source": [
        "#show top 5 rows\n",
        "df.show(5)\n",
        "#your code goes here\n"
      ]
    },
    {
      "cell_type": "code",
      "execution_count": null,
      "metadata": {
        "tags": [],
        "colab": {
          "base_uri": "https://localhost:8080/"
        },
        "id": "Yeih0jvw2Tm0",
        "outputId": "f24d689a-451f-4259-b022-252a807bf677"
      },
      "outputs": [
        {
          "output_type": "stream",
          "name": "stdout",
          "text": [
            "root\n",
            " |-- MPG: double (nullable = true)\n",
            " |-- Cylinders: integer (nullable = true)\n",
            " |-- Engine_Disp: double (nullable = true)\n",
            " |-- Horsepower: integer (nullable = true)\n",
            " |-- Weight: integer (nullable = true)\n",
            " |-- Accelerate: double (nullable = true)\n",
            " |-- Year: integer (nullable = true)\n",
            " |-- Origin: string (nullable = true)\n",
            "\n"
          ]
        }
      ],
      "source": [
        "#print the schema of the dataframe\n",
        "\n",
        "#your code goes here\n",
        "df.printSchema()"
      ]
    },
    {
      "cell_type": "markdown",
      "metadata": {
        "id": "Urwo_iCH2Tm0"
      },
      "source": [
        "### Task 2 - Define the StringIndexer pipeline stage\n"
      ]
    },
    {
      "cell_type": "code",
      "execution_count": null,
      "metadata": {
        "tags": [],
        "id": "DHI7Vpw12Tm1"
      },
      "outputs": [],
      "source": [
        "# Stage - 1 Using StringIndexer convert the string column \"Origin\" into \"OriginIndex\"\n",
        "indexer = StringIndexer(inputCol='Origin',outputCol='OriginIndex')\n"
      ]
    },
    {
      "cell_type": "markdown",
      "metadata": {
        "id": "TY_imRr82Tm1"
      },
      "source": [
        "<details>\n",
        "    <summary>Click here for a Hint</summary>\n",
        "    \n",
        "Use StringIndexer class\n",
        "\n",
        "</details>\n"
      ]
    },
    {
      "cell_type": "markdown",
      "metadata": {
        "id": "DbvDZYBm2Tm1"
      },
      "source": [
        "<details>\n",
        "    <summary>Click here for Solution</summary>\n",
        "\n",
        "```python\n",
        "indexer = StringIndexer(inputCol=\"Origin\", outputCol=\"OriginIndex\")\n",
        "```\n",
        "\n",
        "</details>\n"
      ]
    },
    {
      "cell_type": "markdown",
      "metadata": {
        "id": "_8F1iMKs2Tm2"
      },
      "source": [
        "### Task 3 - Define the VectorAssembler pipeline stage\n"
      ]
    },
    {
      "cell_type": "code",
      "execution_count": null,
      "metadata": {
        "tags": [],
        "id": "ejKtIhDn2Tm2"
      },
      "outputs": [],
      "source": [
        "# Stage 2 - assemble the input columns 'Cylinders','Engine_Disp','Horsepower','Weight','Accelerate','Year' into a single column \"features\"\n",
        "assembler = VectorAssembler(inputCols=['Cylinders','Engine_Disp','Horsepower','Weight','Accelerate','Year'],outputCol='features')"
      ]
    },
    {
      "cell_type": "markdown",
      "metadata": {
        "id": "luz0f6442Tm2"
      },
      "source": [
        "<details>\n",
        "    <summary>Click here for a Hint</summary>\n",
        "    \n",
        "Use the VectorAssembler class\n",
        "\n",
        "</details>\n"
      ]
    },
    {
      "cell_type": "markdown",
      "metadata": {
        "id": "CArU_cT82Tm2"
      },
      "source": [
        "<details>\n",
        "    <summary>Click here for Solution</summary>\n",
        "\n",
        "```python\n",
        "assembler = VectorAssembler(inputCols=['Cylinders','Engine_Disp','Horsepower','Weight','Accelerate','Year'], outputCol=\"features\")\n",
        "```\n",
        "\n",
        "</details>\n"
      ]
    },
    {
      "cell_type": "markdown",
      "metadata": {
        "id": "SpC0Qr7N2Tm2"
      },
      "source": [
        "### Task 4 - Define the StandardScaler pipeline stage\n"
      ]
    },
    {
      "cell_type": "code",
      "execution_count": null,
      "metadata": {
        "tags": [],
        "id": "lSe57Eez2Tm3"
      },
      "outputs": [],
      "source": [
        "# Stage 3 - scale the \"features\" using standard scaler and store in \"scaledFeatures\" column\n",
        "scaler = StandardScaler(inputCol='features',outputCol='scaledFeatures')"
      ]
    },
    {
      "cell_type": "markdown",
      "metadata": {
        "id": "30Ti-Q7d2Tm3"
      },
      "source": [
        "<details>\n",
        "    <summary>Click here for a Hint</summary>\n",
        "    \n",
        "Use the StandardScaler class\n",
        "\n",
        "</details>\n"
      ]
    },
    {
      "cell_type": "markdown",
      "metadata": {
        "id": "QhiSC9MP2Tm3"
      },
      "source": [
        "<details>\n",
        "    <summary>Click here for Solution</summary>\n",
        "\n",
        "```python\n",
        "scaler = StandardScaler(inputCol=\"features\", outputCol=\"scaledFeatures\")\n",
        "\n",
        "```\n",
        "\n",
        "</details>\n"
      ]
    },
    {
      "cell_type": "markdown",
      "metadata": {
        "id": "TfE_-YwS2Tm4"
      },
      "source": [
        "### Task 5 - Define the StandardScaler pipeline stage\n"
      ]
    },
    {
      "cell_type": "code",
      "execution_count": null,
      "metadata": {
        "tags": [],
        "colab": {
          "base_uri": "https://localhost:8080/"
        },
        "id": "MTZn4xMo2Tm4",
        "outputId": "51fee0ad-d58d-4962-8444-36fd95c15168"
      },
      "outputs": [
        {
          "output_type": "stream",
          "name": "stdout",
          "text": [
            "+----+---------+-----------+----------+------+----------+----+--------+\n",
            "| MPG|Cylinders|Engine_Disp|Horsepower|Weight|Accelerate|Year|  Origin|\n",
            "+----+---------+-----------+----------+------+----------+----+--------+\n",
            "|32.2|        4|      108.0|        75|  2265|      15.2|  80|Japanese|\n",
            "+----+---------+-----------+----------+------+----------+----+--------+\n",
            "only showing top 1 row\n",
            "\n"
          ]
        }
      ],
      "source": [
        "df.show(1)"
      ]
    },
    {
      "cell_type": "code",
      "execution_count": null,
      "metadata": {
        "tags": [],
        "id": "wZG6QS4Q2Tm4"
      },
      "outputs": [],
      "source": [
        "# Stage 4 - Create a LinearRegression stage to predict \"MPG\"\n",
        "\n",
        "lr = LinearRegression(featuresCol='scaledFeatures',labelCol='MPG')"
      ]
    },
    {
      "cell_type": "markdown",
      "metadata": {
        "id": "zyeRUoqe2Tm5"
      },
      "source": [
        "<details>\n",
        "    <summary>Click here for a Hint</summary>\n",
        "    \n",
        "Use the LinearRegression class\n",
        "\n",
        "</details>\n"
      ]
    },
    {
      "cell_type": "markdown",
      "metadata": {
        "id": "L_xPAhYy2Tm5"
      },
      "source": [
        "<details>\n",
        "    <summary>Click here for Solution</summary>\n",
        "\n",
        "```python\n",
        "lr = LinearRegression(featuresCol=\"features\", labelCol=\"MPG\")\n",
        "```\n",
        "\n",
        "</details>\n"
      ]
    },
    {
      "cell_type": "markdown",
      "metadata": {
        "id": "HAYuAbA-2Tm6"
      },
      "source": [
        "### Task 6 - Build the pipeline\n"
      ]
    },
    {
      "cell_type": "code",
      "execution_count": null,
      "metadata": {
        "tags": [],
        "id": "feWEWGVk2Tm6"
      },
      "outputs": [],
      "source": [
        "# Build a pipeline using the above four stages\n",
        "\n",
        "pipeline = Pipeline(stages=[indexer,assembler,scaler,lr])"
      ]
    },
    {
      "cell_type": "markdown",
      "metadata": {
        "id": "uzXPHxa-2Tm6"
      },
      "source": [
        "<details>\n",
        "    <summary>Click here for a Hint</summary>\n",
        "    \n",
        "Use the Pipeline class\n",
        "\n",
        "</details>\n"
      ]
    },
    {
      "cell_type": "markdown",
      "metadata": {
        "id": "Dw4EpOGF2Tm7"
      },
      "source": [
        "<details>\n",
        "    <summary>Click here for Solution</summary>\n",
        "\n",
        "```python\n",
        "pipeline = Pipeline(stages=[indexer,assembler, scaler, lr])\n",
        "```\n",
        "\n",
        "</details>\n"
      ]
    },
    {
      "cell_type": "markdown",
      "metadata": {
        "id": "0BQCGzVI2Tm7"
      },
      "source": [
        "### Task 7 - Split the data\n"
      ]
    },
    {
      "cell_type": "code",
      "execution_count": null,
      "metadata": {
        "tags": [],
        "id": "bJ-NakAM2Tm7"
      },
      "outputs": [],
      "source": [
        "# Split the data into training and testing sets with 70:30 split. Use 42 as seed\n",
        "(trainingData, testingData) = df.randomSplit([0.7,0.3],seed=42)"
      ]
    },
    {
      "cell_type": "markdown",
      "metadata": {
        "id": "9Ghhtwf32Tm7"
      },
      "source": [
        "<details>\n",
        "    <summary>Click here for a Hint</summary>\n",
        "    \n",
        "Use the randomSplit method\n",
        "\n",
        "</details>\n"
      ]
    },
    {
      "cell_type": "markdown",
      "metadata": {
        "id": "ARdXK-sj2Tm7"
      },
      "source": [
        "<details>\n",
        "    <summary>Click here for Solution</summary>\n",
        "\n",
        "```python\n",
        "(trainingData, testingData) = df.randomSplit([0.7, 0.3], seed=42)\n",
        "```\n",
        "\n",
        "</details>\n"
      ]
    },
    {
      "cell_type": "markdown",
      "metadata": {
        "id": "-Grl6hpC2Tm8"
      },
      "source": [
        "### Task 8 - Fit the pipeline\n"
      ]
    },
    {
      "cell_type": "code",
      "execution_count": null,
      "metadata": {
        "tags": [],
        "id": "15RGoQYY2Tm8"
      },
      "outputs": [],
      "source": [
        "# Fit the pipeline using the training data\n",
        "\n",
        "pipelineModel = pipeline.fit(trainingData)\n",
        "rowcount4=df.count()"
      ]
    },
    {
      "cell_type": "markdown",
      "metadata": {
        "id": "LXQ5wvqq2Tm8"
      },
      "source": [
        "<details>\n",
        "    <summary>Click here for a Hint</summary>\n",
        "    \n",
        "Use the pipeline.fit method\n",
        "\n",
        "</details>\n"
      ]
    },
    {
      "cell_type": "markdown",
      "metadata": {
        "id": "GsOl75Td2Tm9"
      },
      "source": [
        "<details>\n",
        "    <summary>Click here for Solution</summary>\n",
        "\n",
        "```python\n",
        "pipelineModel = pipeline.fit(trainingData)\n",
        "```\n",
        "\n",
        "</details>\n"
      ]
    },
    {
      "cell_type": "markdown",
      "metadata": {
        "id": "ZCWLpU3y2Tm9"
      },
      "source": [
        "#### Part 2 - Evaluation\n"
      ]
    },
    {
      "cell_type": "markdown",
      "metadata": {
        "id": "t0PRFN_q2Tm9"
      },
      "source": [
        "\n",
        "Run the code cell below.<br>\n",
        "If the code throws up any errors, go back and review the code you have written.\n"
      ]
    },
    {
      "cell_type": "code",
      "execution_count": null,
      "metadata": {
        "tags": [],
        "colab": {
          "base_uri": "https://localhost:8080/"
        },
        "id": "Y_a_0uh52Tm9",
        "outputId": "646cc437-d777-45ae-da79-51ad49406f44"
      },
      "outputs": [
        {
          "output_type": "stream",
          "name": "stdout",
          "text": [
            "Part 2 - Evaluation\n",
            "Total rows =  385\n",
            "Pipeline Stage 1 =  StringIndexer\n",
            "Pipeline Stage 2 =  VectorAssembler\n",
            "Pipeline Stage 3 =  StandardScaler\n",
            "Pipeline Stage 4 =  LinearRegression\n",
            "Label column =  MPG\n"
          ]
        }
      ],
      "source": [
        "print(\"Part 2 - Evaluation\")\n",
        "print(\"Total rows = \", rowcount4)\n",
        "ps = [str(x).split(\"_\")[0] for x in pipeline.getStages()]\n",
        "\n",
        "print(\"Pipeline Stage 1 = \", ps[0])\n",
        "print(\"Pipeline Stage 2 = \", ps[1])\n",
        "print(\"Pipeline Stage 3 = \", ps[2])\n",
        "print(\"Pipeline Stage 4 = \", ps[3])\n",
        "\n",
        "print(\"Label column = \", lr.getLabelCol())"
      ]
    },
    {
      "cell_type": "markdown",
      "metadata": {
        "id": "yI-mZNic2Tm-"
      },
      "source": [
        "## Part 3 - Model Evaluation\n"
      ]
    },
    {
      "cell_type": "markdown",
      "metadata": {
        "id": "DR8GrP5h2Tm-"
      },
      "source": [
        "### Task 1 - Predict using the model\n"
      ]
    },
    {
      "cell_type": "code",
      "execution_count": null,
      "metadata": {
        "tags": [],
        "id": "vfMWj0xj2Tm-"
      },
      "outputs": [],
      "source": [
        "# Make predictions on testing data\n",
        "predictions = pipelineModel.transform(testingData)"
      ]
    },
    {
      "cell_type": "markdown",
      "metadata": {
        "id": "2WRFrGqH2Tm-"
      },
      "source": [
        "<details>\n",
        "    <summary>Click here for a Hint</summary>\n",
        "    \n",
        "Use the transform method of the model\n",
        "\n",
        "</details>\n"
      ]
    },
    {
      "cell_type": "markdown",
      "metadata": {
        "id": "9KUxhXr52Tm_"
      },
      "source": [
        "<details>\n",
        "    <summary>Click here for Solution</summary>\n",
        "\n",
        "```python\n",
        "predictions = pipelineModel.transform(testingData)\n",
        "```\n",
        "\n",
        "</details>\n"
      ]
    },
    {
      "cell_type": "markdown",
      "metadata": {
        "id": "L3pAYABh2Tm_"
      },
      "source": [
        "### Task 2 - Print the MSE\n"
      ]
    },
    {
      "cell_type": "code",
      "execution_count": null,
      "metadata": {
        "tags": [],
        "colab": {
          "base_uri": "https://localhost:8080/"
        },
        "id": "RV91-cvP2Tm_",
        "outputId": "60cdb54e-f2f3-4dd3-8067-eaf42953f1a1"
      },
      "outputs": [
        {
          "output_type": "stream",
          "name": "stdout",
          "text": [
            "13.573678158158078\n"
          ]
        }
      ],
      "source": [
        "#Your code goes here\n",
        "from pyspark.ml.evaluation import RegressionEvaluator\n",
        "evaluator = RegressionEvaluator(predictionCol='prediction',labelCol='MPG',metricName='mse')\n",
        "\n",
        "mse = evaluator.evaluate(predictions)\n",
        "print(mse)\n"
      ]
    },
    {
      "cell_type": "markdown",
      "metadata": {
        "id": "OZhaCLf12Tm_"
      },
      "source": [
        "<details>\n",
        "    <summary>Click here for a Hint</summary>\n",
        "    \n",
        "Use the RegressionEvaluator\n",
        "\n",
        "</details>\n"
      ]
    },
    {
      "cell_type": "markdown",
      "metadata": {
        "id": "AB_OeZe12TnA"
      },
      "source": [
        "<details>\n",
        "    <summary>Click here for Solution</summary>\n",
        "\n",
        "```python\n",
        "from pyspark.ml.evaluation import RegressionEvaluator\n",
        "\n",
        "evaluator = RegressionEvaluator(predictionCol=\"prediction\", labelCol=\"MPG\", metricName=\"mse\")\n",
        "mse = evaluator.evaluate(predictions)\n",
        "print(mse)\n",
        "\n",
        "```\n",
        "\n",
        "</details>\n"
      ]
    },
    {
      "cell_type": "markdown",
      "metadata": {
        "id": "5Eg5cDeU2TnA"
      },
      "source": [
        "### Task 3 - Print the MAE\n"
      ]
    },
    {
      "cell_type": "code",
      "execution_count": null,
      "metadata": {
        "tags": [],
        "colab": {
          "base_uri": "https://localhost:8080/"
        },
        "id": "FFRBzxZ12TnA",
        "outputId": "a41561a8-65d3-4c10-9b07-105b97c9568d"
      },
      "outputs": [
        {
          "output_type": "stream",
          "name": "stdout",
          "text": [
            "2.812912919273046\n"
          ]
        }
      ],
      "source": [
        "#Your code goes here\n",
        "\n",
        "evaluator = RegressionEvaluator(predictionCol='prediction',labelCol='MPG',metricName='mae')\n",
        "mae = evaluator.evaluate(predictions)\n",
        "print(mae)\n",
        "\n"
      ]
    },
    {
      "cell_type": "markdown",
      "metadata": {
        "id": "2Vbo2EaI2TnA"
      },
      "source": [
        "<details>\n",
        "    <summary>Click here for a Hint</summary>\n",
        "    \n",
        "Use the RegressionEvaluator\n",
        "\n",
        "</details>\n"
      ]
    },
    {
      "cell_type": "markdown",
      "metadata": {
        "id": "MNjO-DA02TnB"
      },
      "source": [
        "<details>\n",
        "    <summary>Click here for Solution</summary>\n",
        "\n",
        "```python\n",
        "evaluator = RegressionEvaluator(predictionCol=\"prediction\", labelCol=\"MPG\", metricName=\"mae\")\n",
        "mae = evaluator.evaluate(predictions)\n",
        "print(mae)\n",
        "\n",
        "```\n",
        "\n",
        "</details>\n"
      ]
    },
    {
      "cell_type": "markdown",
      "metadata": {
        "id": "UIMQ4ILL2TnB"
      },
      "source": [
        "### Task 4 - Print the R-Squared(R2)\n"
      ]
    },
    {
      "cell_type": "code",
      "execution_count": null,
      "metadata": {
        "tags": [],
        "colab": {
          "base_uri": "https://localhost:8080/"
        },
        "id": "UrKOuMWu2TnB",
        "outputId": "9e04d85e-69b3-4687-b966-2adb0cecd9ec"
      },
      "outputs": [
        {
          "output_type": "stream",
          "name": "stdout",
          "text": [
            "0.8118350786719104\n"
          ]
        }
      ],
      "source": [
        "#Your code goes here\n",
        "\n",
        "evaluator =RegressionEvaluator(predictionCol='prediction',labelCol='MPG',metricName='r2')\n",
        "r2 =evaluator.evaluate(predictions)\n",
        "print(r2)\n"
      ]
    },
    {
      "cell_type": "markdown",
      "metadata": {
        "id": "37O0TPrj2TnB"
      },
      "source": [
        "<details>\n",
        "    <summary>Click here for a Hint</summary>\n",
        "    \n",
        "Use the RegressionEvaluator\n",
        "\n",
        "</details>\n"
      ]
    },
    {
      "cell_type": "markdown",
      "metadata": {
        "id": "jtq9B4HR2TnC"
      },
      "source": [
        "<details>\n",
        "    <summary>Click here for Solution</summary>\n",
        "\n",
        "```python\n",
        "evaluator = RegressionEvaluator(predictionCol=\"prediction\", labelCol=\"MPG\", metricName=\"r2\")\n",
        "r2 = evaluator.evaluate(predictions)\n",
        "print(r2)\n",
        "```\n",
        "\n",
        "</details>\n"
      ]
    },
    {
      "cell_type": "markdown",
      "metadata": {
        "id": "CeREsAdd2TnC"
      },
      "source": [
        "#### Part 3 - Evaluation\n"
      ]
    },
    {
      "cell_type": "markdown",
      "metadata": {
        "id": "0mGUpiE92TnC"
      },
      "source": [
        "\n",
        "Run the code cell below.<br>\n",
        "If the code throws up any errors, go back and review the code you have written.\n"
      ]
    },
    {
      "cell_type": "code",
      "execution_count": null,
      "metadata": {
        "tags": [],
        "colab": {
          "base_uri": "https://localhost:8080/"
        },
        "id": "lMQFw48j2TnC",
        "outputId": "a7f910a5-9bba-4ed1-d3e9-805ef81ea18a"
      },
      "outputs": [
        {
          "output_type": "stream",
          "name": "stdout",
          "text": [
            "Part 3 - Evaluation\n",
            "Mean Squared Error =  13.57\n",
            "Mean Absolute Error =  2.81\n",
            "R Squared =  0.81\n",
            "Intercept =  -16.54\n"
          ]
        }
      ],
      "source": [
        "print(\"Part 3 - Evaluation\")\n",
        "\n",
        "print(\"Mean Squared Error = \", round(mse,2))\n",
        "print(\"Mean Absolute Error = \", round(mae,2))\n",
        "print(\"R Squared = \", round(r2,2))\n",
        "\n",
        "lrModel = pipelineModel.stages[-1]\n",
        "\n",
        "print(\"Intercept = \", round(lrModel.intercept,2))\n"
      ]
    },
    {
      "cell_type": "markdown",
      "metadata": {
        "id": "JLsNcx9A2TnD"
      },
      "source": [
        "## Part 4 - Model persistance\n"
      ]
    },
    {
      "cell_type": "markdown",
      "metadata": {
        "id": "OdbA8xnu2TnD"
      },
      "source": [
        "### Task 1 - Save the model to the path \"Practice_Project\"\n"
      ]
    },
    {
      "cell_type": "code",
      "execution_count": null,
      "metadata": {
        "tags": [],
        "id": "v3yb4PUN2TnD"
      },
      "outputs": [],
      "source": [
        "# Save the pipeline model\n",
        "# your code goes here\n",
        "pipelineModel.write().save(\"Practice_Project\")"
      ]
    },
    {
      "cell_type": "markdown",
      "metadata": {
        "id": "h9wxn8Zg2TnD"
      },
      "source": [
        "<details>\n",
        "    <summary>Click here for a Hint</summary>\n",
        "    \n",
        "Use the model.write().save method\n",
        "\n",
        "</details>\n"
      ]
    },
    {
      "cell_type": "markdown",
      "metadata": {
        "id": "IJSIH8be2TnE"
      },
      "source": [
        "<details>\n",
        "    <summary>Click here for Solution</summary>\n",
        "\n",
        "```python\n",
        "pipelineModel.write().save(\"Practice_Project\")\n",
        "```\n",
        "\n",
        "</details>\n"
      ]
    },
    {
      "cell_type": "markdown",
      "metadata": {
        "id": "HN6AUAQK2TnE"
      },
      "source": [
        "### Task 2 - Load the model from the path \"Practice_Project\"\n"
      ]
    },
    {
      "cell_type": "code",
      "execution_count": null,
      "metadata": {
        "tags": [],
        "id": "eCxGeO0I2TnE"
      },
      "outputs": [],
      "source": [
        "# Load the pipeline model\n",
        "# your code goes here\n",
        "loadedPipelineModel =PipelineModel.load(\"Practice_Project\")"
      ]
    },
    {
      "cell_type": "markdown",
      "metadata": {
        "id": "9ijDaUf82TnE"
      },
      "source": [
        "<details>\n",
        "    <summary>Click here for a Hint</summary>\n",
        "    \n",
        "Use the load method of the model\n",
        "\n",
        "</details>\n"
      ]
    },
    {
      "cell_type": "markdown",
      "metadata": {
        "id": "huocsps52TnF"
      },
      "source": [
        "<details>\n",
        "    <summary>Click here for Solution</summary>\n",
        "\n",
        "```python\n",
        "loadedPipelineModel = PipelineModel.load(\"Practice_Project\")\n",
        "```\n",
        "\n",
        "</details>\n"
      ]
    },
    {
      "cell_type": "markdown",
      "metadata": {
        "id": "5WQ9LwKU2TnF"
      },
      "source": [
        "### Task 3 - Make predictions using the loaded model on the test data\n"
      ]
    },
    {
      "cell_type": "code",
      "execution_count": null,
      "metadata": {
        "tags": [],
        "id": "TjZ31n-S2TnF"
      },
      "outputs": [],
      "source": [
        "# Use the loaded pipeline model for predictions\n",
        "# your code goes here\n",
        "Predictions=loadedPipelineModel.transform(testingData)\n"
      ]
    },
    {
      "cell_type": "markdown",
      "metadata": {
        "id": "nlPnL6Rr2TnF"
      },
      "source": [
        "<details>\n",
        "    <summary>Click here for a Hint</summary>\n",
        "    \n",
        "Use the transform method\n",
        "\n",
        "</details>\n"
      ]
    },
    {
      "cell_type": "markdown",
      "metadata": {
        "id": "tK3aOt7R2TnF"
      },
      "source": [
        "<details>\n",
        "    <summary>Click here for Solution</summary>\n",
        "\n",
        "```python\n",
        "predictions = loadedPipelineModel.transform(testingData)\n",
        "```\n",
        "\n",
        "</details>\n"
      ]
    },
    {
      "cell_type": "markdown",
      "metadata": {
        "id": "GcX3hDMF2TnG"
      },
      "source": [
        "### Task 4 - Show the predictions\n"
      ]
    },
    {
      "cell_type": "code",
      "execution_count": null,
      "metadata": {
        "tags": [],
        "colab": {
          "base_uri": "https://localhost:8080/"
        },
        "id": "iJxcO9xP2TnG",
        "outputId": "a013fc71-41c6-4779-d62f-65bf7c12bc58"
      },
      "outputs": [
        {
          "output_type": "stream",
          "name": "stdout",
          "text": [
            "+----+------------------+\n",
            "| MPG|        prediction|\n",
            "+----+------------------+\n",
            "|11.0| 16.42590170282346|\n",
            "|13.0|10.802608360195528|\n",
            "|13.0|11.760214450052363|\n",
            "|13.0|13.969577409461067|\n",
            "|14.0| 12.94654675582872|\n",
            "|14.0|12.043992135754362|\n",
            "|14.0|11.448565889264064|\n",
            "|15.0|15.487019350894307|\n",
            "|15.0|13.027414829816003|\n",
            "|15.5| 16.31520316461242|\n",
            "|15.5| 15.64910538457874|\n",
            "|16.2|22.166242333738303|\n",
            "|16.5|18.083574268523307|\n",
            "|16.5|14.234159457356853|\n",
            "|17.0|17.329238871605774|\n",
            "|17.6| 20.05155981033832|\n",
            "|18.0| 19.96776963923059|\n",
            "|18.0|  17.5340276452293|\n",
            "|18.0|14.628987064550277|\n",
            "|18.0|15.173263293528123|\n",
            "+----+------------------+\n",
            "only showing top 20 rows\n",
            "\n"
          ]
        }
      ],
      "source": [
        "# your code goes here\n",
        "predictions.select(\"MPG\",\"prediction\").show()"
      ]
    },
    {
      "cell_type": "markdown",
      "metadata": {
        "id": "VSh5aDaq2TnG"
      },
      "source": [
        "<details>\n",
        "    <summary>Click here for a Hint</summary>\n",
        "    \n",
        "Use the the select method of the dataframe\n",
        "\n",
        "</details>\n"
      ]
    },
    {
      "cell_type": "markdown",
      "metadata": {
        "id": "6Wh4wabH2TnH"
      },
      "source": [
        "<details>\n",
        "    <summary>Click here for Solution</summary>\n",
        "\n",
        "```python\n",
        "predictions.select(\"MPG\",\"prediction\").show()\n",
        "```\n",
        "\n",
        "</details>\n"
      ]
    },
    {
      "cell_type": "markdown",
      "metadata": {
        "id": "Zxc_0Xvl2TnH"
      },
      "source": [
        "#### Part 4 - Evaluation\n"
      ]
    },
    {
      "cell_type": "markdown",
      "metadata": {
        "id": "7NxL3lHF2TnH"
      },
      "source": [
        "\n",
        "Run the code cell below.<br>\n",
        "If the code throws up any errors, go back and review the code you have written.\n"
      ]
    },
    {
      "cell_type": "code",
      "execution_count": null,
      "metadata": {
        "tags": [],
        "colab": {
          "base_uri": "https://localhost:8080/"
        },
        "id": "ezGzA0Nm2TnH",
        "outputId": "dfc19394-1912-4c22-d35f-15bb06944eaf"
      },
      "outputs": [
        {
          "output_type": "stream",
          "name": "stdout",
          "text": [
            "Part 4 - Evaluation\n",
            "Number of stages in the pipeline =  4\n",
            "Coefficient for Cylinders is -0.5862\n",
            "Coefficient for Engine_Disp is 0.3383\n",
            "Coefficient for Horsepower is 0.5337\n",
            "Coefficient for Weight is -5.377\n",
            "Coefficient for Accelerate is 0.5971\n",
            "Coefficient for Year is 2.6359\n"
          ]
        }
      ],
      "source": [
        "print(\"Part 4 - Evaluation\")\n",
        "\n",
        "loadedmodel = loadedPipelineModel.stages[-1]\n",
        "totalstages = len(loadedPipelineModel.stages)\n",
        "inputcolumns = loadedPipelineModel.stages[1].getInputCols()\n",
        "\n",
        "print(\"Number of stages in the pipeline = \", totalstages)\n",
        "for i,j in zip(inputcolumns, loadedmodel.coefficients):\n",
        "    print(f\"Coefficient for {i} is {round(j,4)}\")"
      ]
    },
    {
      "cell_type": "markdown",
      "metadata": {
        "id": "8gG22QcL2TnH"
      },
      "source": [
        "### Task 5 - Stop Spark Session\n"
      ]
    },
    {
      "cell_type": "code",
      "execution_count": null,
      "metadata": {
        "tags": [],
        "id": "-NYc8nzo2TnI"
      },
      "outputs": [],
      "source": [
        "spark.stop()"
      ]
    },
    {
      "cell_type": "markdown",
      "metadata": {
        "id": "fZO7aCh32TnI"
      },
      "source": [
        "Congratulations!! you have successfully finished the practice project.\n"
      ]
    },
    {
      "cell_type": "markdown",
      "metadata": {
        "id": "JC5ccf852TnI"
      },
      "source": [
        "## Authors\n"
      ]
    },
    {
      "cell_type": "markdown",
      "metadata": {
        "id": "_hpUWOZW2TnI"
      },
      "source": [
        "[Ramesh Sannareddy](https://www.linkedin.com/in/rsannareddy/?utm_medium=Exinfluencer&utm_source=Exinfluencer&utm_content=000026UJ&utm_term=10006555&utm_id=NA-SkillsNetwork-Channel-SkillsNetworkCoursesIBMBD0231ENSkillsNetwork866-2023-01-01)\n"
      ]
    },
    {
      "cell_type": "markdown",
      "metadata": {
        "id": "TN0dSL2v2TnJ"
      },
      "source": [
        "### Other Contributors\n"
      ]
    },
    {
      "cell_type": "markdown",
      "metadata": {
        "id": "Dw3uaWfK2TnJ"
      },
      "source": [
        "## Change Log\n"
      ]
    },
    {
      "cell_type": "markdown",
      "metadata": {
        "id": "JBji8h4X2TnK"
      },
      "source": [
        "|Date (YYYY-MM-DD)|Version|Changed By|Change Description|\n",
        "|-|-|-|-|\n",
        "|2023-05-26|0.1|Ramesh Sannareddy|Initial Version Created|\n"
      ]
    },
    {
      "cell_type": "markdown",
      "metadata": {
        "id": "EPVL6yFo2TnK"
      },
      "source": [
        "Copyright © 2023 IBM Corporation. All rights reserved.\n"
      ]
    }
  ],
  "metadata": {
    "kernelspec": {
      "display_name": "Python 3",
      "name": "python3"
    },
    "language_info": {
      "name": "python"
    },
    "colab": {
      "provenance": [],
      "include_colab_link": true
    }
  },
  "nbformat": 4,
  "nbformat_minor": 0
}